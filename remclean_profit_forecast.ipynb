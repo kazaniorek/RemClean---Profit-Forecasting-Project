{
 "cells": [
  {
   "cell_type": "markdown",
   "id": "3c476a1f",
   "metadata": {},
   "source": [
    "# RemClean - Profit Forecasting Project"
   ]
  },
  {
   "cell_type": "markdown",
   "id": "8537c604",
   "metadata": {},
   "source": [
    "## 1. Import Libraries"
   ]
  },
  {
   "cell_type": "code",
   "execution_count": null,
   "id": "d577a89f",
   "metadata": {},
   "outputs": [],
   "source": [
    "import pandas as pd\n",
    "import numpy as np\n",
    "import matplotlib.pyplot as plt\n",
    "import statsmodels.api as sm\n",
    "import warnings\n",
    "warnings.filterwarnings(\"ignore\")\n"
   ]
  },
  {
   "cell_type": "markdown",
   "id": "0e98682b",
   "metadata": {},
   "source": [
    "## 2. Load the Sales Data"
   ]
  },
  {
   "cell_type": "code",
   "execution_count": null,
   "id": "90626286",
   "metadata": {},
   "outputs": [],
   "source": [
    "data = pd.read_csv('sales_data_remclean.csv')\n",
    "data['Date'] = pd.to_datetime(data['Date'])\n",
    "data.head()\n"
   ]
  },
  {
   "cell_type": "markdown",
   "id": "d5bdc908",
   "metadata": {},
   "source": [
    "## 3. Exploratory Data Analysis"
   ]
  },
  {
   "cell_type": "code",
   "execution_count": null,
   "id": "59562558",
   "metadata": {},
   "outputs": [],
   "source": [
    "# Plotting Revenue and Costs\n",
    "plt.figure(figsize=(14,6))\n",
    "plt.plot(data['Date'], data['Individual Clients Revenue'], label='Individual Clients Revenue')\n",
    "plt.plot(data['Date'], data['Agency Clients Revenue'], label='Agency Clients Revenue')\n",
    "plt.plot(data['Date'], data['Costs'], label='Costs')\n",
    "plt.title('Revenue and Costs Over Time (RemClean)')\n",
    "plt.xlabel('Date')\n",
    "plt.ylabel('GBP (£)')\n",
    "plt.legend()\n",
    "plt.grid(True)\n",
    "plt.show()\n",
    "\n",
    "# Plotting Profit\n",
    "plt.figure(figsize=(10,5))\n",
    "plt.plot(data['Date'], data['Profit'], label='Profit', color='green')\n",
    "plt.title('Profit Over Time (RemClean)')\n",
    "plt.xlabel('Date')\n",
    "plt.ylabel('GBP (£)')\n",
    "plt.legend()\n",
    "plt.grid(True)\n",
    "plt.show()\n"
   ]
  },
  {
   "cell_type": "markdown",
   "id": "fbf41cb7",
   "metadata": {},
   "source": [
    "## 4. Forecasting Profit for Next 6 Months"
   ]
  },
  {
   "cell_type": "code",
   "execution_count": null,
   "id": "35223343",
   "metadata": {},
   "outputs": [],
   "source": [
    "# Preparing data\n",
    "profit_data = data[['Date', 'Profit']].copy()\n",
    "profit_data.set_index('Date', inplace=True)\n",
    "\n",
    "# ARIMA Model\n",
    "model = sm.tsa.ARIMA(profit_data, order=(1, 1, 1))\n",
    "model_fit = model.fit()\n",
    "\n",
    "# Forecasting\n",
    "forecast_steps = 6\n",
    "forecast = model_fit.forecast(steps=forecast_steps)\n",
    "\n",
    "# Future dates\n",
    "forecast_dates = pd.date_range(start=profit_data.index[-1] + pd.DateOffset(months=1), periods=forecast_steps, freq='MS')\n",
    "\n",
    "# Forecast DataFrame\n",
    "forecast_df = pd.DataFrame({\n",
    "    'Date': forecast_dates,\n",
    "    'Forecasted Profit': np.round(forecast, 2)\n",
    "})\n",
    "\n",
    "forecast_df\n"
   ]
  },
  {
   "cell_type": "markdown",
   "id": "e0e9eb31",
   "metadata": {},
   "source": [
    "## 5. Visualise Forecasted Profit"
   ]
  },
  {
   "cell_type": "code",
   "execution_count": null,
   "id": "82a8166a",
   "metadata": {},
   "outputs": [],
   "source": [
    "plt.figure(figsize=(10,5))\n",
    "plt.plot(profit_data.index, profit_data['Profit'], label='Historical Profit')\n",
    "plt.plot(forecast_df['Date'], forecast_df['Forecasted Profit'], label='Forecasted Profit', linestyle='--', marker='o', color='red')\n",
    "plt.title('Forecasted Profit for RemClean')\n",
    "plt.xlabel('Date')\n",
    "plt.ylabel('GBP (£)')\n",
    "plt.legend()\n",
    "plt.grid(True)\n",
    "plt.show()\n"
   ]
  }
 ],
 "metadata": {},
 "nbformat": 4,
 "nbformat_minor": 5
}
